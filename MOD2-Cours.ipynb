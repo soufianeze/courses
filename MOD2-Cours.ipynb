{
 "cells": [
  {
   "cell_type": "markdown",
   "metadata": {
    "colab_type": "text",
    "id": "jRi0MqY8ZmEM"
   },
   "source": [
    "# Module 2 - l'algorithme avancé"
   ]
  },
  {
   "cell_type": "markdown",
   "metadata": {
    "colab_type": "text",
    "id": "Aei2jp7SZmEO"
   },
   "source": [
    "## Les variables complexes"
   ]
  },
  {
   "cell_type": "markdown",
   "metadata": {
    "colab_type": "text",
    "id": "kDjhVsKkZmEP"
   },
   "source": [
    "Il existe 3 types principaux de variables complexes :\n",
    "\n",
    "- La liste (imaginez une liste de courses) : on peut ajouter des valeurs, transformer des valeurs, supprimer des valeurs\n",
    "- le tuple (imaginez une liste de pièces admininstratives) : on décide d'y mettre des choses qui ne pourront pas changer\n",
    "- le dictionnaire (imaginez un vrai dictionnaire) : on peut y ajouter des valeurs, transformer des valeurs, supprimer des valeurs avec des références d'accès\n",
    "\n"
   ]
  },
  {
   "cell_type": "markdown",
   "metadata": {
    "colab_type": "text",
    "id": "4a5W-f3-ZmEQ"
   },
   "source": [
    "## Les listes"
   ]
  },
  {
   "cell_type": "markdown",
   "metadata": {
    "colab_type": "text",
    "id": "xB4-JgaoZmEQ"
   },
   "source": [
    "Voici comment instancier et remplir une liste"
   ]
  },
  {
   "cell_type": "code",
   "execution_count": 0,
   "metadata": {
    "colab": {},
    "colab_type": "code",
    "id": "LNtKlIZjZmER"
   },
   "outputs": [],
   "source": [
    "maliste = list\n",
    "maliste = []\n",
    "maliste = [1, 2, 3, 4, 5]\n",
    "\n",
    "print(maliste)"
   ]
  },
  {
   "cell_type": "markdown",
   "metadata": {
    "colab_type": "text",
    "id": "eijwWWAYZmEf"
   },
   "source": [
    "Une liste peut contenir tout type de variables"
   ]
  },
  {
   "cell_type": "code",
   "execution_count": 0,
   "metadata": {
    "colab": {},
    "colab_type": "code",
    "id": "CDVXlnkoZmEh"
   },
   "outputs": [],
   "source": [
    "maliste = [1, True, 'super !', 4.47]\n",
    "\n",
    "print(maliste)"
   ]
  },
  {
   "cell_type": "markdown",
   "metadata": {
    "colab_type": "text",
    "id": "lJ-tSMEeZmEn"
   },
   "source": [
    "Une liste peut même contenir une liste !"
   ]
  },
  {
   "cell_type": "code",
   "execution_count": 0,
   "metadata": {
    "colab": {},
    "colab_type": "code",
    "id": "7yvYG8NjZmEo"
   },
   "outputs": [],
   "source": [
    "maliste2 = list\n",
    "maliste2 = []\n",
    "maliste2 = [1, 2, maliste]\n",
    "\n",
    "print(maliste2)"
   ]
  },
  {
   "cell_type": "markdown",
   "metadata": {
    "colab_type": "text",
    "id": "sFKFPDk8ZmEv"
   },
   "source": [
    "Une fois créée, voici comment accéder à une liste. Celle ci bénéficie de clés allant de 0 à l'infini. \n",
    "La première clé commence à 0 !"
   ]
  },
  {
   "cell_type": "code",
   "execution_count": 0,
   "metadata": {
    "colab": {},
    "colab_type": "code",
    "id": "FrtGaV9uZmEw"
   },
   "outputs": [],
   "source": [
    "maliste = list\n",
    "maliste = []\n",
    "maliste = ['Luc', 'Xavier', 'Thomas', 'Guillaume', 'Peggy']\n",
    "\n",
    "print(maliste[2])"
   ]
  },
  {
   "cell_type": "markdown",
   "metadata": {
    "colab_type": "text",
    "id": "_k3QtINLZmE0"
   },
   "source": [
    "### Opérations sur les listes "
   ]
  },
  {
   "cell_type": "markdown",
   "metadata": {
    "colab_type": "text",
    "id": "5E1TKHrCZmE1"
   },
   "source": [
    "On peut ajouter, modifier ou supprimer des éléments dans une liste. Par exemple, ajouter Véronique puis changer son nom en Adrien puis le supprimer"
   ]
  },
  {
   "cell_type": "code",
   "execution_count": 0,
   "metadata": {
    "colab": {},
    "colab_type": "code",
    "id": "AsVgLyu5ZmE2"
   },
   "outputs": [],
   "source": [
    "maliste = list\n",
    "maliste = []\n",
    "maliste = ['Luc', 'Xavier', 'Thomas', 'Guillaume', 'Peggy']\n",
    "\n",
    "maliste.append('Véronique')\n",
    "print(maliste)\n",
    "\n",
    "maliste[5]='Adrien'\n",
    "print(maliste)\n",
    "\n",
    "del maliste[5]\n",
    "print(maliste)"
   ]
  },
  {
   "cell_type": "code",
   "execution_count": 0,
   "metadata": {
    "colab": {},
    "colab_type": "code",
    "id": "gWgHxwssZmE_"
   },
   "outputs": [],
   "source": [
    "On peut également fusionner deux listes"
   ]
  },
  {
   "cell_type": "code",
   "execution_count": 0,
   "metadata": {
    "colab": {},
    "colab_type": "code",
    "id": "6s6wzX22ZmFF"
   },
   "outputs": [],
   "source": [
    "l1 = list\n",
    "l1 = []\n",
    "l1 = ['Guillaume', 'Peggy']\n",
    "print(l1)\n",
    "\n",
    "l2 = list\n",
    "l2 = []\n",
    "l2 = ['Luc', 'Xavier', 'Thomas']\n",
    "print(l2)\n",
    "\n",
    "l1.extend(l2)\n",
    "\n",
    "print(l1)"
   ]
  },
  {
   "cell_type": "markdown",
   "metadata": {
    "colab_type": "text",
    "id": "DfORUneBZmFQ"
   },
   "source": [
    "### Parcourir une liste … la force de la boucle "
   ]
  },
  {
   "cell_type": "markdown",
   "metadata": {
    "colab_type": "text",
    "id": "bcdeUS3UZmFQ"
   },
   "source": [
    "Une liste est vouée à être parcourue !"
   ]
  },
  {
   "cell_type": "code",
   "execution_count": 0,
   "metadata": {
    "colab": {},
    "colab_type": "code",
    "id": "qy9qOjhQZmFS"
   },
   "outputs": [],
   "source": [
    "l1 = list\n",
    "l1 = []\n",
    "l1 = ['Luc', 'Xavier', 'Thomas', 'Guillaume', 'Peggy']\n",
    "\n",
    "i = int\n",
    "i = None\n",
    "i = 0\n",
    "\n",
    "while i < len(l1):\n",
    "    print(l1[i])\n",
    "    i += 1 # On incrémente i, c'est comme i = i + 1\n",
    "    \n",
    "for y in l1: # y va prendre les valeurs successives des éléments de ma_liste\n",
    "    print(y)"
   ]
  },
  {
   "cell_type": "markdown",
   "metadata": {
    "colab_type": "text",
    "id": "iMa2QdDHZmFa"
   },
   "source": [
    "On préférera ici utiliser le FOR pour des raisons évidentes de lisibilité comme tout à l'heure sur le module 1.\n",
    "On peut dire que le for est plus approprié aux listes alors que le while est plus approprié au parcours de variables simples.\n",
    "\n",
    "On utilisera donc le for avec la fonction \"enumerate\" qui va simplement renvoyer la clé et la valeur en transformant chaque donnée de la liste en objet :"
   ]
  },
  {
   "cell_type": "code",
   "execution_count": 0,
   "metadata": {
    "colab": {},
    "colab_type": "code",
    "id": "rTiaaVsUZmFe"
   },
   "outputs": [],
   "source": [
    "l1 = list\n",
    "l1 = []\n",
    "l1 = ['Luc', 'Xavier', 'Thomas', 'Guillaume', 'Peggy']\n",
    "\n",
    "    \n",
    "for x,y in enumerate(l1): # y va prendre les valeurs successives des éléments de ma_liste\n",
    "    print('clé : '+ str(x) + ' - valeur : ' + str(y))"
   ]
  },
  {
   "cell_type": "markdown",
   "metadata": {
    "colab_type": "text",
    "id": "srzwFnHfZmFr"
   },
   "source": [
    "## Les dictionnaires "
   ]
  },
  {
   "cell_type": "markdown",
   "metadata": {
    "colab_type": "text",
    "id": "GHgO03FwZmFs"
   },
   "source": [
    "Les dictionnaires ressembles à des listes mais n'en sont pas. On utilise pas des indices (0 à l'infini) mais des clés.\n",
    "\n",
    "Voici comment remplir un dictionnaire :"
   ]
  },
  {
   "cell_type": "code",
   "execution_count": 0,
   "metadata": {
    "colab": {},
    "colab_type": "code",
    "id": "c1GC-oDzZmFs"
   },
   "outputs": [],
   "source": [
    "mondic = dict\n",
    "mondic = {}\n",
    "mondic = {'nom':'Jean', 'prenom':'Jean','Age':27}\n",
    "\n",
    "print(mondic)"
   ]
  },
  {
   "cell_type": "markdown",
   "metadata": {
    "colab_type": "text",
    "id": "WkO1ba6kZmF1"
   },
   "source": [
    "Pour y ajouter une valeur c'est assez simple :"
   ]
  },
  {
   "cell_type": "code",
   "execution_count": 0,
   "metadata": {
    "colab": {},
    "colab_type": "code",
    "id": "FAmt0h_gZmF2"
   },
   "outputs": [],
   "source": [
    "mondic = dict\n",
    "mondic = {}\n",
    "mondic = {'nom':'Jean', 'prenom':'Jean','Age':27}\n",
    "\n",
    "mondic['taille'] = 1.80\n",
    "mondic['poids'] = 65\n",
    "\n",
    "print(mondic)"
   ]
  },
  {
   "cell_type": "markdown",
   "metadata": {
    "colab_type": "text",
    "id": "qpS8nIPaZmF8"
   },
   "source": [
    "Pour afficher une valeur : "
   ]
  },
  {
   "cell_type": "code",
   "execution_count": 0,
   "metadata": {
    "colab": {},
    "colab_type": "code",
    "id": "cYW8QHGQZmF9"
   },
   "outputs": [],
   "source": [
    "print(mondic['nom'])"
   ]
  },
  {
   "cell_type": "markdown",
   "metadata": {
    "colab_type": "text",
    "id": "FafDQCoVZmGC"
   },
   "source": [
    "Pour modifier une valeur :"
   ]
  },
  {
   "cell_type": "code",
   "execution_count": 0,
   "metadata": {
    "colab": {},
    "colab_type": "code",
    "id": "Ju_I0LPZZmGD"
   },
   "outputs": [],
   "source": [
    "mondic['nom'] = 'Michel'\n",
    "\n",
    "print(mondic)"
   ]
  },
  {
   "cell_type": "markdown",
   "metadata": {
    "colab_type": "text",
    "id": "gdD3tJPtZmGK"
   },
   "source": [
    "Pour supprimer une valeur, on utilisera la même fonction que pour les listes :"
   ]
  },
  {
   "cell_type": "code",
   "execution_count": 0,
   "metadata": {
    "colab": {},
    "colab_type": "code",
    "id": "ZSNfVJZMZmGL"
   },
   "outputs": [],
   "source": [
    "del mondic['nom']\n",
    "\n",
    "print(mondic)"
   ]
  },
  {
   "cell_type": "markdown",
   "metadata": {
    "colab_type": "text",
    "id": "RAmAXdLpZmGP"
   },
   "source": [
    "on peut également vider le dictionnaire : "
   ]
  },
  {
   "cell_type": "code",
   "execution_count": 0,
   "metadata": {
    "colab": {},
    "colab_type": "code",
    "id": "Er0YFYXMZmGR"
   },
   "outputs": [],
   "source": [
    "mondic.clear()\n",
    "\n",
    "print(mondic)"
   ]
  },
  {
   "cell_type": "markdown",
   "metadata": {
    "colab_type": "text",
    "id": "wmUa3dz9ZmGU"
   },
   "source": [
    "### Parcourir une dictionnaire … la force de la boucle "
   ]
  },
  {
   "cell_type": "markdown",
   "metadata": {
    "colab_type": "text",
    "id": "Ah6uGNhUZmGU"
   },
   "source": [
    "Comme pour une liste, on parcours le dictionnaire avec une boucle for …"
   ]
  },
  {
   "cell_type": "code",
   "execution_count": 0,
   "metadata": {
    "colab": {},
    "colab_type": "code",
    "id": "qO4215AKZmGV"
   },
   "outputs": [],
   "source": [
    "mondic = dict\n",
    "mondic = {}\n",
    "mondic = {'nom':'Jean', 'prenom':'Jean','Age':27}\n",
    "\n",
    "for i in mondic:\n",
    "    print(i)"
   ]
  },
  {
   "cell_type": "markdown",
   "metadata": {
    "colab_type": "text",
    "id": "wQk1lgkgZmGq"
   },
   "source": [
    "Ici nous n'avons que les clés, il faut alors préciser si nous voulons les clés ou les valeurs :"
   ]
  },
  {
   "cell_type": "code",
   "execution_count": 0,
   "metadata": {
    "colab": {},
    "colab_type": "code",
    "id": "g_2kV6bkZmGr"
   },
   "outputs": [],
   "source": [
    "mondic = dict\n",
    "mondic = {}\n",
    "mondic = {'nom':'Jean', 'prenom':'Jean','Age':27}\n",
    "\n",
    "for i in mondic.keys():\n",
    "    print(i)\n",
    "    \n",
    "for i in mondic.values():\n",
    "    print(i)"
   ]
  },
  {
   "cell_type": "markdown",
   "metadata": {
    "colab_type": "text",
    "id": "FvZ0d8tKZmG6"
   },
   "source": [
    "et pour avoir les deux, c'est très simple :"
   ]
  },
  {
   "cell_type": "code",
   "execution_count": 0,
   "metadata": {
    "colab": {},
    "colab_type": "code",
    "id": "XCJvVVGKZmG9"
   },
   "outputs": [],
   "source": [
    "mondic = dict\n",
    "mondic = {}\n",
    "mondic = {'nom':'Jean', 'prenom':'Jean','Age':27}\n",
    "\n",
    "for x,y in mondic.items():\n",
    "    print('clé : '+str(x)+' - valeur : '+str(y))"
   ]
  },
  {
   "cell_type": "markdown",
   "metadata": {
    "colab_type": "text",
    "id": "ZJ50GsgpZmHA"
   },
   "source": [
    "Profitons en pour apprendre une fonctione \"format\" qui va nous permettre de nous affranchir du str() :"
   ]
  },
  {
   "cell_type": "code",
   "execution_count": 0,
   "metadata": {
    "colab": {},
    "colab_type": "code",
    "id": "9FNLpacjZmHA"
   },
   "outputs": [],
   "source": [
    "mondic = dict\n",
    "mondic = {}\n",
    "mondic = {'nom':'Jean', 'prenom':'Jean','Age':27}\n",
    "\n",
    "for x,y in mondic.items():\n",
    "    print(\"La clé {} contient la valeur {}.\".format(x, y))"
   ]
  },
  {
   "cell_type": "markdown",
   "metadata": {
    "colab_type": "text",
    "id": "ARfjQtrCf2Gw"
   },
   "source": [
    "##Les fonctions et les classes"
   ]
  },
  {
   "cell_type": "markdown",
   "metadata": {
    "colab_type": "text",
    "id": "V-FAxl2OpGLR"
   },
   "source": [
    "Les fonctions et les classes sont des structures de données qui permettent d'isoler le code (factoriser) pour des questions de lisibilité, de maintenance et de rapidité de développement."
   ]
  },
  {
   "cell_type": "markdown",
   "metadata": {
    "colab_type": "text",
    "id": "ReMpZrN2f5lQ"
   },
   "source": [
    "###Les fonctions"
   ]
  },
  {
   "cell_type": "markdown",
   "metadata": {
    "colab_type": "text",
    "id": "dWqQuUiQpUHH"
   },
   "source": [
    "Les fonctions permettent de factoriser du code. Par exemple d'executer une addition."
   ]
  },
  {
   "cell_type": "code",
   "execution_count": 0,
   "metadata": {
    "colab": {},
    "colab_type": "code",
    "id": "Wr2N2k51gXdx"
   },
   "outputs": [],
   "source": [
    "def mafonct(var1,var2):\n",
    "  var3 = var1 + var2\n",
    "  return var3"
   ]
  },
  {
   "cell_type": "code",
   "execution_count": 0,
   "metadata": {
    "colab": {},
    "colab_type": "code",
    "id": "yiRc1MIJgjYJ"
   },
   "outputs": [],
   "source": [
    "mafonct(5,7)"
   ]
  },
  {
   "cell_type": "markdown",
   "metadata": {
    "colab_type": "text",
    "id": "nHpXOmwXpbcp"
   },
   "source": [
    "On peut également affecter des valeurs par défaut. Ce qui va permettre de ne pas passer de valeurs."
   ]
  },
  {
   "cell_type": "code",
   "execution_count": 0,
   "metadata": {
    "colab": {},
    "colab_type": "code",
    "id": "hgDGWcwShCqH"
   },
   "outputs": [],
   "source": [
    "def mafonct2(var1=0,var2=0):\n",
    "  var3 = var1 + var2\n",
    "  return var3"
   ]
  },
  {
   "cell_type": "code",
   "execution_count": 0,
   "metadata": {
    "colab": {},
    "colab_type": "code",
    "id": "EAQK1fZ8kE5K"
   },
   "outputs": [],
   "source": [
    "mafonct2()"
   ]
  },
  {
   "cell_type": "code",
   "execution_count": 0,
   "metadata": {
    "colab": {},
    "colab_type": "code",
    "id": "ukwkFvGNkI4M"
   },
   "outputs": [],
   "source": [
    "mafonct2(2)"
   ]
  },
  {
   "cell_type": "code",
   "execution_count": 0,
   "metadata": {
    "colab": {},
    "colab_type": "code",
    "id": "xkn3eMInkMwl"
   },
   "outputs": [],
   "source": [
    "mafonct2(5,5)"
   ]
  },
  {
   "cell_type": "markdown",
   "metadata": {
    "colab_type": "text",
    "id": "RWAP5MkukYPg"
   },
   "source": [
    "###Les classes"
   ]
  },
  {
   "cell_type": "markdown",
   "metadata": {
    "colab_type": "text",
    "id": "M8lpfY5Hpll-"
   },
   "source": [
    "Les classes sont des structures puissantes qui permettent de créer des objets (variables hyper-complexes) qui vont regrouper des variables mais également des fonctions ou procédures."
   ]
  },
  {
   "cell_type": "code",
   "execution_count": 0,
   "metadata": {
    "colab": {},
    "colab_type": "code",
    "id": "1VA79rYokypO"
   },
   "outputs": [],
   "source": [
    "class voiture:\n",
    "  def __init__(self):\n",
    "    self.portes=int\n",
    "    self.modele=str\n",
    "  def afficher(self):\n",
    "    print(\"Voiture : {0} portes - Modele {1}\".format(self.portes,self.modele))\n"
   ]
  },
  {
   "cell_type": "code",
   "execution_count": 0,
   "metadata": {
    "colab": {},
    "colab_type": "code",
    "id": "6cYONAJFlG31"
   },
   "outputs": [],
   "source": [
    "renault = voiture()\n",
    "renault.afficher()"
   ]
  },
  {
   "cell_type": "markdown",
   "metadata": {
    "colab_type": "text",
    "id": "e-jTSz73pyf1"
   },
   "source": [
    "La classe voiture peut prendre plusieurs aspects."
   ]
  },
  {
   "cell_type": "code",
   "execution_count": 0,
   "metadata": {
    "colab": {},
    "colab_type": "code",
    "id": "XkkZHbIvlkdQ"
   },
   "outputs": [],
   "source": [
    "renault.portes = 3\n",
    "renault.modele='Twingo'"
   ]
  },
  {
   "cell_type": "code",
   "execution_count": 0,
   "metadata": {
    "colab": {},
    "colab_type": "code",
    "id": "HyUOMa3Llwf2"
   },
   "outputs": [],
   "source": [
    "renault.afficher()"
   ]
  },
  {
   "cell_type": "code",
   "execution_count": 0,
   "metadata": {
    "colab": {},
    "colab_type": "code",
    "id": "9b4fRLKQl3Tf"
   },
   "outputs": [],
   "source": [
    "renault2 = voiture()\n",
    "renault2.portes = 5\n",
    "renault2.modele='Laguna'\n",
    "renault2.afficher()"
   ]
  }
 ],
 "metadata": {
  "colab": {
   "collapsed_sections": [],
   "name": "MOD2-Cours.ipynb",
   "provenance": []
  },
  "kernelspec": {
   "display_name": "Python 3",
   "language": "python",
   "name": "python3"
  },
  "language_info": {
   "codemirror_mode": {
    "name": "ipython",
    "version": 3
   },
   "file_extension": ".py",
   "mimetype": "text/x-python",
   "name": "python",
   "nbconvert_exporter": "python",
   "pygments_lexer": "ipython3",
   "version": "3.7.6"
  }
 },
 "nbformat": 4,
 "nbformat_minor": 1
}
